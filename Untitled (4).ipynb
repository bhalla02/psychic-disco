{
 "cells": [
  {
   "cell_type": "markdown",
   "id": "043acea7-3159-47c9-9af6-b184d6203a0e",
   "metadata": {},
   "source": [
    "Q1\n",
    "\n",
    "Exception\n",
    "An exception in Python is an event that occurs during the execution of a program that disrupts the normal flow of the program's instructions.\n",
    "\n",
    "syntax Errors\n",
    "Syntax errors, also known as parsing errors, occur when the code violates the rules of Python's syntax. These errors prevent the code from being parsed and compiled, which means the program cannot even start executing."
   ]
  },
  {
   "cell_type": "markdown",
   "id": "5f9c8019-254c-47df-ac65-a608c1697146",
   "metadata": {},
   "source": [
    "Q2\n",
    "\n",
    "When exceptions are not handled in a program, they lead to what is known as an \"unhandled exception.\" An unhandled exception occurs when an exception is raised during the execution of the program, but there is no corresponding try-except block to catch and handle that exception. As a result, the normal execution flow is disrupted, and the program terminates abruptly, displaying an error message that includes information about the unhandled exception."
   ]
  },
  {
   "cell_type": "code",
   "execution_count": 1,
   "id": "a549190a-5234-46a5-a5a0-76383ea42ea5",
   "metadata": {},
   "outputs": [
    {
     "ename": "ZeroDivisionError",
     "evalue": "division by zero",
     "output_type": "error",
     "traceback": [
      "\u001b[0;31m---------------------------------------------------------------------------\u001b[0m",
      "\u001b[0;31mZeroDivisionError\u001b[0m                         Traceback (most recent call last)",
      "Cell \u001b[0;32mIn[1], line 6\u001b[0m\n\u001b[1;32m      3\u001b[0m \u001b[38;5;28;01mdef\u001b[39;00m \u001b[38;5;21mdivide\u001b[39m(x,y):\n\u001b[1;32m      4\u001b[0m     \u001b[38;5;28;01mreturn\u001b[39;00m x\u001b[38;5;241m/\u001b[39my\n\u001b[0;32m----> 6\u001b[0m result \u001b[38;5;241m=\u001b[39m \u001b[43mdivide\u001b[49m\u001b[43m(\u001b[49m\u001b[38;5;241;43m10\u001b[39;49m\u001b[43m,\u001b[49m\u001b[38;5;241;43m0\u001b[39;49m\u001b[43m)\u001b[49m\n\u001b[1;32m      7\u001b[0m \u001b[38;5;28mprint\u001b[39m(\u001b[38;5;124m\"\u001b[39m\u001b[38;5;124mResult : \u001b[39m\u001b[38;5;124m\"\u001b[39m, result)\n",
      "Cell \u001b[0;32mIn[1], line 4\u001b[0m, in \u001b[0;36mdivide\u001b[0;34m(x, y)\u001b[0m\n\u001b[1;32m      3\u001b[0m \u001b[38;5;28;01mdef\u001b[39;00m \u001b[38;5;21mdivide\u001b[39m(x,y):\n\u001b[0;32m----> 4\u001b[0m     \u001b[38;5;28;01mreturn\u001b[39;00m \u001b[43mx\u001b[49m\u001b[38;5;241;43m/\u001b[39;49m\u001b[43my\u001b[49m\n",
      "\u001b[0;31mZeroDivisionError\u001b[0m: division by zero"
     ]
    }
   ],
   "source": [
    "#Q2 Code\n",
    "\n",
    "def divide(x,y):\n",
    "    return x/y\n",
    "\n",
    "result = divide(10,0)\n",
    "print(\"Result : \", result)"
   ]
  },
  {
   "cell_type": "code",
   "execution_count": 3,
   "id": "8b556bce-60dd-43f0-87c2-ea29d3368128",
   "metadata": {},
   "outputs": [
    {
     "name": "stdin",
     "output_type": "stream",
     "text": [
      "Enter the number : 0\n"
     ]
    },
    {
     "name": "stdout",
     "output_type": "stream",
     "text": [
      "Cannot divide by zero\n",
      "Exception handling completed\n"
     ]
    }
   ],
   "source": [
    "#Q3\n",
    "\n",
    "#Python statements used for exception handling are try and catch block , else and finally.\n",
    "\n",
    "\n",
    "try :\n",
    "    x = int(input(\"Enter the number :\"))\n",
    "    \n",
    "    Result = 10/x\n",
    "    \n",
    "    print(\"Result : \" , Result)\n",
    "\n",
    "except ValueError :\n",
    "    \n",
    "    print(\"Input Error is invalid, please enter valid input\")\n",
    "\n",
    "    \n",
    "except ZeroDivisionError:\n",
    "    \n",
    "    print(\"Cannot divide by zero\")\n",
    "    \n",
    "else :\n",
    "    \n",
    "    print(\"No excecution occured\")\n",
    "    \n",
    "finally :\n",
    "    \n",
    "    print(\"Exception handling completed\")\n",
    "    \n",
    "    \n",
    "    \n",
    "    \n",
    "    \n",
    "\n"
   ]
  },
  {
   "cell_type": "code",
   "execution_count": 6,
   "id": "0ca8ff31-03de-46ea-90b0-dd561c3b2bf1",
   "metadata": {},
   "outputs": [
    {
     "name": "stdin",
     "output_type": "stream",
     "text": [
      "Enter a number:  0\n"
     ]
    },
    {
     "ename": "ZeroDivisionError",
     "evalue": "division by zero",
     "output_type": "error",
     "traceback": [
      "\u001b[0;31m---------------------------------------------------------------------------\u001b[0m",
      "\u001b[0;31mZeroDivisionError\u001b[0m                         Traceback (most recent call last)",
      "Cell \u001b[0;32mIn[6], line 11\u001b[0m\n\u001b[1;32m      9\u001b[0m     \u001b[38;5;28mprint\u001b[39m(\u001b[38;5;124m\"\u001b[39m\u001b[38;5;124mInvalid input. Please enter a valid number.\u001b[39m\u001b[38;5;124m\"\u001b[39m)\n\u001b[1;32m     10\u001b[0m \u001b[38;5;28;01melse\u001b[39;00m:\n\u001b[0;32m---> 11\u001b[0m     result \u001b[38;5;241m=\u001b[39m \u001b[38;5;241;43m10\u001b[39;49m\u001b[43m \u001b[49m\u001b[38;5;241;43m/\u001b[39;49m\u001b[43m \u001b[49m\u001b[43mx\u001b[49m\n\u001b[1;32m     12\u001b[0m     \u001b[38;5;28mprint\u001b[39m(\u001b[38;5;124m\"\u001b[39m\u001b[38;5;124mResult:\u001b[39m\u001b[38;5;124m\"\u001b[39m, result)\n",
      "\u001b[0;31mZeroDivisionError\u001b[0m: division by zero"
     ]
    }
   ],
   "source": [
    "#Q4 a\n",
    "\n",
    "'''The try and else blocks work together to handle exceptions that might occur in the try block. The else block is executed if no exceptions are raised in the try block. \n",
    "It's useful for separating the code that may raise an exception from the code that should run only if the exception didn't occur.'''\n",
    "\n",
    "try:\n",
    "    x = int(input(\"Enter a number: \"))\n",
    "except ValueError:\n",
    "    print(\"Invalid input. Please enter a valid number.\")\n",
    "else:\n",
    "    result = 10 / x\n",
    "    print(\"Result:\", result)\n",
    "\n",
    "    "
   ]
  },
  {
   "cell_type": "code",
   "execution_count": 7,
   "id": "25d2885a-e27d-4dce-91c1-60fd225bd8bd",
   "metadata": {},
   "outputs": [
    {
     "name": "stdout",
     "output_type": "stream",
     "text": [
      "File not found.\n"
     ]
    },
    {
     "ename": "NameError",
     "evalue": "name 'file' is not defined",
     "output_type": "error",
     "traceback": [
      "\u001b[0;31m---------------------------------------------------------------------------\u001b[0m",
      "\u001b[0;31mNameError\u001b[0m                                 Traceback (most recent call last)",
      "Cell \u001b[0;32mIn[7], line 13\u001b[0m\n\u001b[1;32m     11\u001b[0m     \u001b[38;5;28mprint\u001b[39m(\u001b[38;5;124m\"\u001b[39m\u001b[38;5;124mFile content:\u001b[39m\u001b[38;5;124m\"\u001b[39m, content)\n\u001b[1;32m     12\u001b[0m \u001b[38;5;28;01mfinally\u001b[39;00m:\n\u001b[0;32m---> 13\u001b[0m     \u001b[38;5;28;01mif\u001b[39;00m \u001b[43mfile\u001b[49m:\n\u001b[1;32m     14\u001b[0m         file\u001b[38;5;241m.\u001b[39mclose()  \n",
      "\u001b[0;31mNameError\u001b[0m: name 'file' is not defined"
     ]
    }
   ],
   "source": [
    "#Q4 b\n",
    "\n",
    "'''The finally block is used to specify a block of code that will always be executed, whether an exception was raised or not.\n",
    "It's typically used for cleanup tasks or resource management.'''\n",
    "try:\n",
    "    file = open(\"example.txt\", \"r\")\n",
    "    content = file.read()\n",
    "except FileNotFoundError:\n",
    "    print(\"File not found.\")\n",
    "else:\n",
    "    print(\"File content:\", content)\n",
    "finally:\n",
    "    if file:\n",
    "        file.close()  \n",
    "\n"
   ]
  },
  {
   "cell_type": "code",
   "execution_count": 8,
   "id": "41753c3d-033d-422f-bc4d-6bda953c09fa",
   "metadata": {},
   "outputs": [
    {
     "name": "stdout",
     "output_type": "stream",
     "text": [
      "An error occurred: Division by zero is not allowed\n"
     ]
    }
   ],
   "source": [
    "#Q4 c\n",
    "\n",
    "'''The raise statement is used to explicitly raise an exception in your code. \n",
    "You can use it when you want to indicate that a particular condition has occurred that warrants an exception.'''\n",
    "def divide(x, y):\n",
    "    if y == 0:\n",
    "        raise ZeroDivisionError(\"Division by zero is not allowed\")\n",
    "    return x / y\n",
    "\n",
    "try:\n",
    "    result = divide(10, 0)\n",
    "except ZeroDivisionError as e:\n",
    "    print(\"An error occurred:\", e)\n",
    "\n"
   ]
  },
  {
   "cell_type": "code",
   "execution_count": 9,
   "id": "da3099ad-874b-4551-b25f-80e09ee6492e",
   "metadata": {},
   "outputs": [
    {
     "name": "stdout",
     "output_type": "stream",
     "text": [
      "Error: Insufficient funds: Balance 100, Amount 150\n"
     ]
    }
   ],
   "source": [
    "#Q5\n",
    "\n",
    "'''custom exceptions in Python are user-defined exception classes that you create to represent specific types of errors or exceptional conditions that can occur in your program. \n",
    "These exceptions extend the built-in Exception class or one of its subclasses, allowing you to create your own hierarchy of exception types tailored to your application's needs.'''\n",
    "\n",
    "class InsufficientFundsError(Exception):\n",
    "    def __init__(self, balance, amount):\n",
    "        self.balance = balance\n",
    "        self.amount = amount\n",
    "        super().__init__(f\"Insufficient funds: Balance {balance}, Amount {amount}\")\n",
    "\n",
    "class BankAccount:\n",
    "    def __init__(self, balance):\n",
    "        self.balance = balance\n",
    "\n",
    "    def withdraw(self, amount):\n",
    "        if amount > self.balance:\n",
    "            raise InsufficientFundsError(self.balance, amount)\n",
    "        self.balance -= amount\n",
    "        return self.balance\n",
    "\n",
    "try:\n",
    "    account = BankAccount(100)\n",
    "    amount = 150\n",
    "    new_balance = account.withdraw(amount)\n",
    "    print(f\"Withdrawal successful! New balance: {new_balance}\")\n",
    "except InsufficientFundsError as e:\n",
    "    print(f\"Error: {e}\")\n"
   ]
  }
 ],
 "metadata": {
  "kernelspec": {
   "display_name": "Python 3 (ipykernel)",
   "language": "python",
   "name": "python3"
  },
  "language_info": {
   "codemirror_mode": {
    "name": "ipython",
    "version": 3
   },
   "file_extension": ".py",
   "mimetype": "text/x-python",
   "name": "python",
   "nbconvert_exporter": "python",
   "pygments_lexer": "ipython3",
   "version": "3.10.8"
  }
 },
 "nbformat": 4,
 "nbformat_minor": 5
}
